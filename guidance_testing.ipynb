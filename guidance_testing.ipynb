{
 "cells": [
  {
   "cell_type": "code",
   "execution_count": null,
   "metadata": {},
   "outputs": [],
   "source": [
    "import numpy as np\n",
    "import wandb\n",
    "import torch\n",
    "\n",
    "def div_torch(field):\n",
    "    Fx_x = torch.gradient(field[0], dim=0)\n",
    "    Fy_y = torch.gradient(field[1], dim=1)\n",
    "    div = torch.stack([Fx_x[0], Fy_y[0]], dim=0)\n",
    "\n",
    "    return torch.sum(div, dim=0)\n",
    "\n",
    "def curl_torch(field):\n",
    "    Fx_y = torch.gradient(field[0], dim = 1)\n",
    "    Fy_x = torch.gradient(field[1], dim = 0)\n",
    "    return Fy_x[0] - Fx_y[0]"
   ]
  }
 ],
 "metadata": {
  "kernelspec": {
   "display_name": "bachelor",
   "language": "python",
   "name": "python3"
  },
  "language_info": {
   "name": "python",
   "version": "3.11.9"
  }
 },
 "nbformat": 4,
 "nbformat_minor": 2
}
